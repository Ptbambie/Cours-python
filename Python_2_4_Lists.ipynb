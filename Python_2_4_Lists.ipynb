{
  "nbformat": 4,
  "nbformat_minor": 0,
  "metadata": {
    "colab": {
      "provenance": [],
      "include_colab_link": true
    },
    "kernelspec": {
      "name": "python3",
      "display_name": "Python 3"
    }
  },
  "cells": [
    {
      "cell_type": "markdown",
      "metadata": {
        "id": "view-in-github",
        "colab_type": "text"
      },
      "source": [
        "<a href=\"https://colab.research.google.com/github/Ptbambie/Cours-python/blob/main/Python_2_4_Lists.ipynb\" target=\"_parent\"><img src=\"https://colab.research.google.com/assets/colab-badge.svg\" alt=\"Open In Colab\"/></a>"
      ]
    },
    {
      "cell_type": "markdown",
      "source": [
        "**Preliminary note:** sometimes, the challenge tells you to do something that is incompatible with some input (for instance, you ask for a position but the user enters some text, or an invalid number).\n",
        "\n",
        "Here you can assume that all user input goes according to plan (the \"happy path\"). If you want an extra **optional** challenge, feel free to manage possible error cases!"
      ],
      "metadata": {
        "id": "1LeJKHt8Hd9O"
      }
    },
    {
      "cell_type": "markdown",
      "metadata": {
        "id": "LoJw-LlCTnWF"
      },
      "source": [
        "# Mission 1\n",
        "\n",
        "Define a list, then display only the elements (and their position) that have even positions (0, 2, 4, 6...).\n",
        "\n",
        "With `test_list = [\"a\", \"b\", \"c\", \"d\", \"e\"]`, the script should display:\n",
        "```\n",
        "a at position 0\n",
        "c at position 2\n",
        "e at position 4\n",
        "```"
      ]
    },
    {
      "cell_type": "code",
      "metadata": {
        "id": "C2Lk113KSPUO",
        "colab": {
          "base_uri": "https://localhost:8080/"
        },
        "outputId": "59ed2b1a-88ab-4f8c-fcdc-83bf3693ca63"
      },
      "source": [
        "test_list = [\"a\", \"b\", \"c\", \"d\", \"e\"]\n",
        "\n",
        "# Your code here\n",
        "test_list = [\"a\", \"b\", \"c\", \"d\", \"e\"]\n",
        "\n",
        "for index, element in enumerate(test_list):\n",
        "    if index % 2 == 0:\n",
        "        print(f\"{element} at position {index}\")\n"
      ],
      "execution_count": 1,
      "outputs": [
        {
          "output_type": "stream",
          "name": "stdout",
          "text": [
            "a at position 0\n",
            "c at position 2\n",
            "e at position 4\n"
          ]
        }
      ]
    },
    {
      "cell_type": "markdown",
      "metadata": {
        "id": "J3bsGIvAT049"
      },
      "source": [
        "# Mission 2\n",
        "\n",
        "Define a list, then **ask** for a position, then for a string. Then replace the list element at that position by the given string, and display the resulting list.\n",
        "\n",
        "For example, with the list `test_list2 = ['hello', 'good morning', 'bye bye', 'have a good day']`, the position `2` and the string `yeah`, you should display:\n",
        "```\n",
        "['hello', 'good morning', 'yeah', 'have a good day']\n",
        "```"
      ]
    },
    {
      "cell_type": "code",
      "metadata": {
        "id": "Fy1OmPSUXNaP",
        "colab": {
          "base_uri": "https://localhost:8080/"
        },
        "outputId": "72ada53f-9909-4d81-8a77-e6a6a833547d"
      },
      "source": [
        "test_list2 = ['hello', 'good morning', 'bye bye', 'have a good day']\n",
        "\n",
        "# Demande à l'utilisateur la position et la chaîne\n",
        "position = int(input(\"Entrez la position : \"))\n",
        "new_string = input(\"Entrez la nouvelle chaîne : \")\n",
        "\n",
        "# Vérifie si la position est valide\n",
        "if 0 <= position < len(test_list2):\n",
        "    test_list2[position] = new_string\n",
        "    print(\"Liste résultante :\", test_list2)\n",
        "else:\n",
        "    print(\"Position invalide.\")\n"
      ],
      "execution_count": 2,
      "outputs": [
        {
          "output_type": "stream",
          "name": "stdout",
          "text": [
            "Entrez la position : 3\n",
            "Entrez la nouvelle chaîne : hello\n",
            "Liste résultante : ['hello', 'good morning', 'bye bye', 'hello']\n"
          ]
        }
      ]
    },
    {
      "cell_type": "markdown",
      "metadata": {
        "id": "dVl36lvlWLdV"
      },
      "source": [
        "# Mission 3\n",
        "\n",
        "Define a list with five numbers, then ask the user for a number. Put the number at the end of the list, remove the first element from the list, and finally display the list.\n",
        "\n",
        "For example, with the list `test_list3 = [1, 9, 6, 15, 4]` and the input `7`, you should display:\n",
        "```\n",
        "[9, 6, 15, 4, 7]\n",
        "```\n"
      ]
    },
    {
      "cell_type": "code",
      "metadata": {
        "id": "pN3_mD4YSPfb",
        "colab": {
          "base_uri": "https://localhost:8080/"
        },
        "outputId": "0b81be50-23c5-44b8-90b7-89bd5eafa46e"
      },
      "source": [
        "test_list3 = [1, 9, 6, 15, 4]\n",
        "\n",
        "#Demande à l'utilisateur de choisir un nombre\n",
        "number = int(input(\"Entrez un numéro : \"))\n",
        "\n",
        "# Ajoute le numéro à la fin de la liste\n",
        "test_list3.append(number)\n",
        "\n",
        "# Supprime le premier élément de la liste\n",
        "test_list3.pop(0)\n",
        "\n",
        "# Affiche la liste résultante\n",
        "print(\"Liste résultante :\", test_list3)\n"
      ],
      "execution_count": 3,
      "outputs": [
        {
          "output_type": "stream",
          "name": "stdout",
          "text": [
            "Entrez un numéro : 7\n",
            "Liste résultante : [9, 6, 15, 4, 7]\n"
          ]
        }
      ]
    },
    {
      "cell_type": "markdown",
      "metadata": {
        "id": "GCvpkWzXXPTf"
      },
      "source": [
        "# Mission 4\n",
        "\n",
        "Define a list, then ask the user for a string. Then, insert the string in the list at a random position, and display the resulting list.\n",
        "\n",
        "For example, with the list `test_list4 = [\"p\", \"y\", \"t\", \"h\", \"o\"]` and the input `n`, you *might* get:\n",
        "```\n",
        "[\"p\", \"n\", \"y\", \"t\", \"h\", \"o\"]\n",
        "```\n",
        "... but you might also get:\n",
        "```\n",
        "[\"p\", \"y\", \"t\", \"n\", \"h\", \"o\"]\n",
        "```\n"
      ]
    },
    {
      "cell_type": "code",
      "metadata": {
        "id": "QjLMjogySPk_",
        "colab": {
          "base_uri": "https://localhost:8080/"
        },
        "outputId": "68f3e528-086d-4576-8d64-c14779960a24"
      },
      "source": [
        "import random\n",
        "\n",
        "test_list4 = [\"p\", \"y\", \"t\", \"h\", \"o\"]\n",
        "\n",
        "#Demande à l'utilisateur de choisir une lettre\n",
        "string = str(input(\"Entrez une phrase : \"))\n",
        "\n",
        "# Génère une position aléatoire\n",
        "random_position = random.randint(0, len(test_list4))\n",
        "\n",
        "# Insère la nouvelle chaîne à la position aléatoire\n",
        "test_list4.insert(random_position, string)\n",
        "\n",
        "#affiche la liste\n",
        "print('liste résultante : ', test_list4)"
      ],
      "execution_count": 5,
      "outputs": [
        {
          "output_type": "stream",
          "name": "stdout",
          "text": [
            "Entrez une phrase : HELlo\n",
            "liste résultante :  ['p', 'y', 't', 'h', 'HELlo', 'o']\n"
          ]
        }
      ]
    },
    {
      "cell_type": "markdown",
      "metadata": {
        "id": "Ygonr8C4pEgg"
      },
      "source": [
        "# Mission 5\n",
        "\n",
        "Create a list of integers. Then, display a list with the elements ordered from smallest to largest, using the right built-in function.\n",
        "\n",
        "With the list `test_list5 = [3, 4, 0, -1, 35, 7]`, this will display:\n",
        "```\n",
        "[-1, 0, 3, 4, 7, 35]\n",
        "```"
      ]
    },
    {
      "cell_type": "code",
      "source": [
        "test_list5 = [3, 4, 0, -1, 35, 7]\n",
        "\n",
        "sorted_list = sorted(test_list5)\n",
        "\n",
        "print(\"Liste triée :\", sorted_list)\n"
      ],
      "metadata": {
        "id": "KYW-riV7K3DA",
        "colab": {
          "base_uri": "https://localhost:8080/"
        },
        "outputId": "ddf0fccc-269a-4cb7-a7ca-b611cbf86b98"
      },
      "execution_count": 6,
      "outputs": [
        {
          "output_type": "stream",
          "name": "stdout",
          "text": [
            "Liste triée : [-1, 0, 3, 4, 7, 35]\n"
          ]
        }
      ]
    },
    {
      "cell_type": "markdown",
      "metadata": {
        "id": "V8ZS3aECXvuZ"
      },
      "source": [
        "# Mission 6\n",
        "\n",
        "Ask the user for a string, convert it to a list of characters with the `list` function, then ask for a single character.\n",
        "\n",
        "Remove the first occurrence of the character from the list, then display how many occurrences of the character remain in the list.\n",
        "\n",
        "For instance if you enter `\"Excellent work\"` then the letter `\"e\"`, it will display:\n",
        "```\n",
        "There are still 2 copies of e in the list\n",
        "```"
      ]
    },
    {
      "cell_type": "code",
      "metadata": {
        "id": "dlRdqxco5r8U",
        "colab": {
          "base_uri": "https://localhost:8080/"
        },
        "outputId": "fc5ef7fb-d8b2-4559-9688-de4dece2939d"
      },
      "source": [
        "user_input = input(\"Entrez une chaîne : \")\n",
        "char_list = list(user_input)\n",
        "\n",
        "char_to_remove = input(\"Entrez un seul caractère : \")\n",
        "\n",
        "if len(char_to_remove) == 1:\n",
        "    char_list.remove(char_to_remove)\n",
        "    remaining_count = char_list.count(char_to_remove)\n",
        "    print(\"Nombre d'occurrences du caractère restant :\", remaining_count)\n",
        "else:\n",
        "    print(\"Veuillez entrer un seul caractère.\")\n"
      ],
      "execution_count": 7,
      "outputs": [
        {
          "output_type": "stream",
          "name": "stdout",
          "text": [
            "Entrez une chaîne : Bonne Journée\n",
            "Entrez un seul caractère : n\n",
            "Nombre d'occurrences du caractère restant : 2\n"
          ]
        }
      ]
    },
    {
      "cell_type": "markdown",
      "metadata": {
        "id": "geMLdrvAYHKx"
      },
      "source": [
        "# Mission 7\n",
        "\n",
        "Define three lists containing no duplicates. Then, indicate (however you like) the two that have the most elements in common (or all three if there's a tie).\n",
        "\n",
        "For instance, with:\n",
        "```\n",
        "list_a = [1, 2, 4, 8, 16, 32]\n",
        "list_b = [1, 2, 3, 5, 8, 13]\n",
        "list_c = [2, 3, 5, 7, 11, 13]\n",
        "```\n",
        "It may display:\n",
        "```\n",
        "Lists B and C have the most common elements!\n",
        "```"
      ]
    },
    {
      "cell_type": "code",
      "metadata": {
        "id": "1-cenx3RSPpq",
        "colab": {
          "base_uri": "https://localhost:8080/"
        },
        "outputId": "3f91b6bb-60b4-4f73-e9fc-d52faf71ee79"
      },
      "source": [
        "list_a = [1, 2, 4, 8, 16, 32]\n",
        "list_b = [1, 2, 3, 5, 8, 13]\n",
        "list_c = [2, 3, 5, 7, 11, 13]\n",
        "\n",
        "list_pairs = [(list_a, list_b), (list_a, list_c), (list_b, list_c)]\n",
        "common_counts = {}\n",
        "\n",
        "for list1, list2 in list_pairs:\n",
        "    common_count = len(set(list1) & set(list2))\n",
        "    common_counts[(tuple(list1), tuple(list2))] = common_count\n",
        "\n",
        "sorted_common_counts = sorted(common_counts.items(), key=lambda x: x[1], reverse=True)\n",
        "\n",
        "most_common_pair = sorted_common_counts[0][0]\n",
        "second_most_common_pair = sorted_common_counts[1][0]\n",
        "\n",
        "print(\"Les deux listes avec le plus d'éléments en commun sont :\")\n",
        "print(most_common_pair)\n",
        "print(second_most_common_pair)\n"
      ],
      "execution_count": 11,
      "outputs": [
        {
          "output_type": "stream",
          "name": "stdout",
          "text": [
            "Les deux listes avec le plus d'éléments en commun sont :\n",
            "((1, 2, 3, 5, 8, 13), (2, 3, 5, 7, 11, 13))\n",
            "((1, 2, 4, 8, 16, 32), (1, 2, 3, 5, 8, 13))\n"
          ]
        }
      ]
    }
  ]
}