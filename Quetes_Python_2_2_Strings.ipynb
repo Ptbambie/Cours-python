{
  "nbformat": 4,
  "nbformat_minor": 0,
  "metadata": {
    "colab": {
      "provenance": [],
      "include_colab_link": true
    },
    "kernelspec": {
      "name": "python3",
      "display_name": "Python 3"
    }
  },
  "cells": [
    {
      "cell_type": "markdown",
      "metadata": {
        "id": "view-in-github",
        "colab_type": "text"
      },
      "source": [
        "<a href=\"https://colab.research.google.com/github/Ptbambie/Cours-python/blob/main/Quetes_Python_2_2_Strings.ipynb\" target=\"_parent\"><img src=\"https://colab.research.google.com/assets/colab-badge.svg\" alt=\"Open In Colab\"/></a>"
      ]
    },
    {
      "cell_type": "markdown",
      "source": [
        "# Mission 1"
      ],
      "metadata": {
        "id": "Y-fEMIDQ3Vwg"
      }
    },
    {
      "cell_type": "markdown",
      "metadata": {
        "id": "wruMhTKTx-_T"
      },
      "source": [
        "What's the lenght of the following string ?"
      ]
    },
    {
      "cell_type": "code",
      "metadata": {
        "id": "oweHYwlm1EVo",
        "colab": {
          "base_uri": "https://localhost:8080/"
        },
        "outputId": "dc7e815c-7354-48aa-d437-021ef729de78"
      },
      "source": [
        "s = \"Taumata whakatangihanga koauau o tamatea turi pukaka piki maungah oronuku pokai whenuaki tanatahu \"\n",
        "numberString = len(s)\n",
        "print(numberString)"
      ],
      "execution_count": 2,
      "outputs": [
        {
          "output_type": "stream",
          "name": "stdout",
          "text": [
            "98\n"
          ]
        }
      ]
    },
    {
      "cell_type": "markdown",
      "source": [
        "Now, count only non-space characters and display how many there is.\n",
        "Remember, using a for loop on a string will browse all the individual characters of it!"
      ],
      "metadata": {
        "id": "5dmVxxN_j4Dh"
      }
    },
    {
      "cell_type": "code",
      "metadata": {
        "id": "ze_3CDrJx9re",
        "colab": {
          "base_uri": "https://localhost:8080/"
        },
        "outputId": "4b9de0a7-5b82-4006-b8e6-d0323f3e815c"
      },
      "source": [
        "s = \"Taumata whakatangihanga koauau o tamatea turi pukaka piki maungah oronuku pokai whenuaki tanatahu \"\n",
        "numberSpaces = 0\n",
        "\n",
        "for character in s:\n",
        "    if character == ' ':\n",
        "        numberSpaces += 1\n",
        "\n",
        "print(numberSpaces)\n"
      ],
      "execution_count": 9,
      "outputs": [
        {
          "output_type": "stream",
          "name": "stdout",
          "text": [
            "13\n"
          ]
        }
      ]
    },
    {
      "cell_type": "markdown",
      "metadata": {
        "id": "2BSzzT3_DDOK"
      },
      "source": [
        "# Mission 2\n",
        "\n",
        "Ask the user for a string, then for a character (we assume user input follows the rules). Then, display the positions, **starting with 1**, of all occurrences of the character within the string.\n",
        "\n",
        "For example, for the word \"welcome\" and for the character \"e\", the script will display:\n",
        "```\n",
        "position: 2\n",
        "position: 7\n",
        "```"
      ]
    },
    {
      "cell_type": "code",
      "source": [
        "string = input('Entrez une chaîne de caractères : ')\n",
        "character = input(\"Entrez un caractère à rechercher : \")\n",
        "\n",
        "positions = []\n",
        "\n",
        "for i, char in enumerate(string, start=1):\n",
        "    if char == character:\n",
        "        positions.append(i)\n",
        "\n",
        "if len(positions) > 0:\n",
        "    for pos in positions:\n",
        "        print(f\"L'indice {pos} contient le caractère '{character}' dans la chaîne : {string}\")\n",
        "else:\n",
        "    print(f\"Le caractère '{character}' n'apparaît pas dans la chaîne de caractères donnée.\")\n"
      ],
      "metadata": {
        "id": "weGO_rxR4J0Y",
        "colab": {
          "base_uri": "https://localhost:8080/"
        },
        "outputId": "be156c68-e8ae-4e4f-ed30-0f921ba36acf"
      },
      "execution_count": 14,
      "outputs": [
        {
          "output_type": "stream",
          "name": "stdout",
          "text": [
            "Entrez une chaîne de caractères : hello\n",
            "Entrez un caractère à rechercher : l\n",
            "L'indice 3 contient le caractère 'l' dans la chaîne : hello\n",
            "L'indice 4 contient le caractère 'l' dans la chaîne : hello\n"
          ]
        }
      ]
    },
    {
      "cell_type": "markdown",
      "metadata": {
        "id": "pLZi_mgzFvMP"
      },
      "source": [
        "# Mission 3\n",
        "\n",
        "Ask the user for a string, then for an integer. Then, display the string repeated as many times as the given integer.\n",
        "\n",
        "For example, `badger` and `4` will display `badgerbadgerbadgerbadger`"
      ]
    },
    {
      "cell_type": "code",
      "source": [
        "string = input('Entrez une chaîne de caractères : ')\n",
        "number = int(input ('Entrez un chiffre : '))\n",
        "\n",
        "result = string * number\n",
        "\n",
        "print(result)\n"
      ],
      "metadata": {
        "id": "CYWu-AM3OSRG",
        "colab": {
          "base_uri": "https://localhost:8080/"
        },
        "outputId": "97fce15a-df8c-47ff-c414-c24c2316716b"
      },
      "execution_count": 16,
      "outputs": [
        {
          "output_type": "stream",
          "name": "stdout",
          "text": [
            "Entrez une chaîne de caractères : Good\n",
            "Entrez un chiffre : 4\n",
            "GoodGoodGoodGood\n"
          ]
        }
      ]
    },
    {
      "cell_type": "markdown",
      "metadata": {
        "id": "GCvpkWzXXPTf"
      },
      "source": [
        "# Mission 4\n",
        "\n",
        "Display the following string without including the spaces at the beginning and end. There's a `string` method that does exactly that, look at the documentation!"
      ]
    },
    {
      "cell_type": "code",
      "metadata": {
        "id": "KZT8AIPF0ery",
        "colab": {
          "base_uri": "https://localhost:8080/"
        },
        "outputId": "8e694307-dd96-45cc-8ea1-a9bf8b32a01b"
      },
      "source": [
        "s = \"   Data Analyst  \"\n",
        "result = s.strip()\n",
        "print(result)"
      ],
      "execution_count": 17,
      "outputs": [
        {
          "output_type": "stream",
          "name": "stdout",
          "text": [
            "Data Analyst\n"
          ]
        }
      ]
    },
    {
      "cell_type": "markdown",
      "metadata": {
        "id": "geMLdrvAYHKx"
      },
      "source": [
        "# Mission 5\n",
        "\n",
        "Ask the user for a string, then for a character, then for another character.\n",
        "\n",
        "Then, display the string where the occurences of the first character are replaced by the second one.  \n",
        "For example:\n",
        "* string = `\"Boulgour\"`  \n",
        "* 1st_char = `\"g\"`\n",
        "* 2nd_char = `\"v\"`\n",
        "\n",
        "Result : `\"Boulvour\"`"
      ]
    },
    {
      "cell_type": "code",
      "source": [
        "string = input(\"Enter a string: \")\n",
        "first_char = input(\"Enter the first character to replace: \")\n",
        "second_char = input(\"Enter the second character to use as replacement: \")\n",
        "\n",
        "result = string.replace(first_char, second_char)\n",
        "\n",
        "print(f\"Result: {result}\")\n"
      ],
      "metadata": {
        "id": "gGvK4X49OW0g",
        "colab": {
          "base_uri": "https://localhost:8080/"
        },
        "outputId": "0cf5adcd-015e-4f49-b821-69af2240b679"
      },
      "execution_count": 18,
      "outputs": [
        {
          "output_type": "stream",
          "name": "stdout",
          "text": [
            "Enter a string: boulgour\n",
            "Enter the first character to replace: g\n",
            "Enter the second character to use as replacement: v\n",
            "Result: boulvour\n"
          ]
        }
      ]
    },
    {
      "cell_type": "markdown",
      "metadata": {
        "id": "V8ZS3aECXvuZ"
      },
      "source": [
        "# Mission 6\n",
        "\n",
        "Ask the user for a string. Then, display the same string with all vowels converted to uppercase, and all consonants converted to lowercase.  \n",
        "For example:\n",
        "* string = `\"Papa's got a brand new bag\"`  \n",
        "Result : `\"pApA's gOt A brAnd nEw bAg\"`\n"
      ]
    },
    {
      "cell_type": "code",
      "source": [
        "string = input(\"Enter a string: \")\n",
        "\n",
        "result = \"\"\n",
        "for char in string:\n",
        "    if char.lower() in 'aeiou':\n",
        "        result += char.upper()\n",
        "    else:\n",
        "        result += char.lower()\n",
        "\n",
        "print(f\"Result: {result}\")\n"
      ],
      "metadata": {
        "id": "w4s5g5nKOYPZ",
        "colab": {
          "base_uri": "https://localhost:8080/"
        },
        "outputId": "e44b7625-2e5d-4675-d3f6-e7b42af83e00"
      },
      "execution_count": 19,
      "outputs": [
        {
          "output_type": "stream",
          "name": "stdout",
          "text": [
            "Enter a string: Papa's got a brand new bag\n",
            "Result: pApA's gOt A brAnd nEw bAg\n"
          ]
        }
      ]
    },
    {
      "cell_type": "code",
      "source": [],
      "metadata": {
        "id": "1ZyvW4vDy8J5"
      },
      "execution_count": null,
      "outputs": []
    }
  ]
}