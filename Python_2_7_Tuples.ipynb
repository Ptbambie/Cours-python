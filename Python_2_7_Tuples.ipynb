{
  "nbformat": 4,
  "nbformat_minor": 0,
  "metadata": {
    "colab": {
      "provenance": [],
      "include_colab_link": true
    },
    "kernelspec": {
      "name": "python3",
      "display_name": "Python 3"
    }
  },
  "cells": [
    {
      "cell_type": "markdown",
      "metadata": {
        "id": "view-in-github",
        "colab_type": "text"
      },
      "source": [
        "<a href=\"https://colab.research.google.com/github/Ptbambie/Cours-python/blob/main/Python_2_7_Tuples.ipynb\" target=\"_parent\"><img src=\"https://colab.research.google.com/assets/colab-badge.svg\" alt=\"Open In Colab\"/></a>"
      ]
    },
    {
      "cell_type": "markdown",
      "metadata": {
        "id": "LoJw-LlCTnWF"
      },
      "source": [
        "# Mission 1\n",
        "\n",
        "Create a tuple of your choice containing 10 elements in this order:\n",
        "- 3 integers\n",
        "- 3 strings\n",
        "- 2 lists containing 3 items each\n",
        "- 2 dictionaries containing 3 items (3 key/value pairs) each\n"
      ]
    },
    {
      "cell_type": "code",
      "metadata": {
        "id": "C2Lk113KSPUO"
      },
      "source": [
        "my_tuple = (42, 15, 7, \"apple\", \"banana\", \"orange\", [1, 2, 3], [4, 5, 6], {\"name\": \"Alice\", \"age\": 30, \"city\": \"New York\"}, {\"name\": \"Bob\", \"age\": 25, \"city\": \"San Francisco\"})\n"
      ],
      "execution_count": 1,
      "outputs": []
    },
    {
      "cell_type": "markdown",
      "metadata": {
        "id": "cPQRTT3q6GB1"
      },
      "source": [
        "Now, access the second-to-last item in the second list."
      ]
    },
    {
      "cell_type": "code",
      "metadata": {
        "id": "V9LKho6U6HM8",
        "colab": {
          "base_uri": "https://localhost:8080/"
        },
        "outputId": "13f013db-0843-4b94-dd68-db7af3d48eb4"
      },
      "source": [
        "second_list = my_tuple[7]  # Access the second list\n",
        "second_to_last_item = second_list[-2]  # Access the second-to-last item in the list\n",
        "\n",
        "print(second_to_last_item)\n"
      ],
      "execution_count": 2,
      "outputs": [
        {
          "output_type": "stream",
          "name": "stdout",
          "text": [
            "5\n"
          ]
        }
      ]
    },
    {
      "cell_type": "markdown",
      "metadata": {
        "id": "HGoGFI9qxuzW"
      },
      "source": [
        "# Mission 2\n",
        "\n",
        "In the same tuple, access the last 4 elements using slicing."
      ]
    },
    {
      "cell_type": "code",
      "metadata": {
        "id": "qk097m4Zx4mR",
        "colab": {
          "base_uri": "https://localhost:8080/"
        },
        "outputId": "8ce7af7f-cf72-4401-c550-d228884c20b0"
      },
      "source": [
        "last_four_elements = my_tuple[-4:]\n",
        "\n",
        "print(last_four_elements)\n"
      ],
      "execution_count": 3,
      "outputs": [
        {
          "output_type": "stream",
          "name": "stdout",
          "text": [
            "([1, 2, 3], [4, 5, 6], {'name': 'Alice', 'age': 30, 'city': 'New York'}, {'name': 'Bob', 'age': 25, 'city': 'San Francisco'})\n"
          ]
        }
      ]
    },
    {
      "cell_type": "markdown",
      "metadata": {
        "id": "iVHJFx3Px8mY"
      },
      "source": [
        "# Mission 3\n",
        "\n",
        "Change the value of the 4th element (the first string) of your tuple (since tuples are immutable, this means recreating a tuple where this element is changed)."
      ]
    },
    {
      "cell_type": "code",
      "metadata": {
        "id": "op3qyirV7tGZ",
        "colab": {
          "base_uri": "https://localhost:8080/"
        },
        "outputId": "0b8c7686-2a06-4513-ba32-948d0cb24445"
      },
      "source": [
        "# Original tuple\n",
        "original_tuple = (42, 15, 7, \"apple\", \"banana\", \"orange\", [1, 2, 3], [4, 5, 6], {\"name\": \"Alice\", \"age\": 30, \"city\": \"New York\"}, {\"name\": \"Bob\", \"age\": 25, \"city\": \"San Francisco\"})\n",
        "\n",
        "# Change the 4th element (first string) to \"pear\"\n",
        "changed_tuple = original_tuple[:3] + (\"pear\",) + original_tuple[4:]\n",
        "\n",
        "print(changed_tuple)\n"
      ],
      "execution_count": 4,
      "outputs": [
        {
          "output_type": "stream",
          "name": "stdout",
          "text": [
            "(42, 15, 7, 'pear', 'banana', 'orange', [1, 2, 3], [4, 5, 6], {'name': 'Alice', 'age': 30, 'city': 'New York'}, {'name': 'Bob', 'age': 25, 'city': 'San Francisco'})\n"
          ]
        }
      ]
    },
    {
      "cell_type": "markdown",
      "metadata": {
        "id": "Wp3_jhWS2Foi"
      },
      "source": [
        "# Mission 4\n",
        "\n",
        "Create 2 tuples of the same length that contain only integers.\n",
        "\n",
        "Then create a script that compares the sum of their elements and displays the tuple that has the highet total."
      ]
    },
    {
      "cell_type": "code",
      "metadata": {
        "id": "dGMYxaMWx8RO",
        "colab": {
          "base_uri": "https://localhost:8080/"
        },
        "outputId": "580803f6-24bb-475c-a93a-14b5ab21f610"
      },
      "source": [
        "# Create two tuples of the same length containing integers\n",
        "tuple1 = (10, 20, 30, 40, 50)\n",
        "tuple2 = (5, 15, 25, 35, 45)\n",
        "\n",
        "# Calculate the sums of the elements in each tuple\n",
        "sum_tuple1 = sum(tuple1)\n",
        "sum_tuple2 = sum(tuple2)\n",
        "\n",
        "# Compare the sums and display the result\n",
        "if sum_tuple1 > sum_tuple2:\n",
        "    print(\"Tuple 1 has the higher total:\", tuple1)\n",
        "elif sum_tuple2 > sum_tuple1:\n",
        "    print(\"Tuple 2 has the higher total:\", tuple2)\n",
        "else:\n",
        "    print(\"Both tuples have the same total:\", sum_tuple1)\n"
      ],
      "execution_count": 5,
      "outputs": [
        {
          "output_type": "stream",
          "name": "stdout",
          "text": [
            "Tuple 1 has the higher total: (10, 20, 30, 40, 50)\n"
          ]
        }
      ]
    },
    {
      "cell_type": "markdown",
      "metadata": {
        "id": "Zmk8uviVzPBZ"
      },
      "source": [
        "# Mission 5\n",
        "\n",
        "Here's a tuple:\n",
        "\n",
        "`my_tuple = (\"data analyst\", \"data scientist\", \"data engineer\", \"data architect\")`\n",
        "\n",
        "Ask the user for a string, then for an integer position. Create an altered copy of `my_tuple` where the element at the given position is now the given string."
      ]
    },
    {
      "cell_type": "code",
      "metadata": {
        "id": "0o-MuRyZ1_7u",
        "colab": {
          "base_uri": "https://localhost:8080/"
        },
        "outputId": "9c154099-0ce7-4391-e366-3f839a2c88a4"
      },
      "source": [
        "my_tuple = (\"data analyst\", \"data scientist\", \"data engineer\", \"data architect\")\n",
        "\n",
        "# Ask the user for a string\n",
        "new_string = input(\"Enter a new string: \")\n",
        "\n",
        "# Ask the user for an integer position\n",
        "position = int(input(\"Enter an integer position: \"))\n",
        "\n",
        "# Check if the given position is valid\n",
        "if 0 <= position < len(my_tuple):\n",
        "    # Create an altered copy of the tuple\n",
        "    altered_tuple = my_tuple[:position] + (new_string,) + my_tuple[position + 1:]\n",
        "    print(\"Altered tuple:\", altered_tuple)\n",
        "else:\n",
        "    print(\"Invalid position entered.\")\n"
      ],
      "execution_count": 6,
      "outputs": [
        {
          "output_type": "stream",
          "name": "stdout",
          "text": [
            "Enter a new string: OK\n",
            "Enter an integer position: 3\n",
            "Altered tuple: ('data analyst', 'data scientist', 'data engineer', 'OK')\n"
          ]
        }
      ]
    }
  ]
}